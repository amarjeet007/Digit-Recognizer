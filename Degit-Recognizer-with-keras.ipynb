{
 "cells": [
  {
   "cell_type": "code",
   "execution_count": 1,
   "metadata": {
    "_cell_guid": "b1076dfc-b9ad-4769-8c92-a6c4dae69d19",
    "_uuid": "8f2839f25d086af736a60e9eeb907d3b93b6e0e5"
   },
   "outputs": [],
   "source": [
    "import numpy as np\n",
    "import pandas as pd\n",
    "import matplotlib.pyplot as plt\n",
    "%matplotlib inline\n",
    "\n",
    "\n"
   ]
  },
  {
   "cell_type": "markdown",
   "metadata": {
    "_uuid": "a82c569fc9e72bab02e56189d7c29b54fbf37d42"
   },
   "source": [
    "## loading Data\n"
   ]
  },
  {
   "cell_type": "code",
   "execution_count": 2,
   "metadata": {
    "_cell_guid": "79c7e3d0-c299-4dcb-8224-4455121ee9b0",
    "_uuid": "d629ff2d2480ee46fbb7e2d37f6b5fab8052498a"
   },
   "outputs": [],
   "source": [
    "\n",
    "train = pd.read_csv(\"train.csv\")\n",
    "test = pd.read_csv(\"test.csv\")"
   ]
  },
  {
   "cell_type": "code",
   "execution_count": 3,
   "metadata": {
    "_uuid": "9380455fb543b7d4cb8d3135f2bbd2f79967f5c0"
   },
   "outputs": [
    {
     "name": "stdout",
     "output_type": "stream",
     "text": [
      "(42000, 785)\n",
      "(28000, 784)\n"
     ]
    }
   ],
   "source": [
    "print(train.shape)\n",
    "print(test.shape)"
   ]
  },
  {
   "cell_type": "code",
   "execution_count": 4,
   "metadata": {
    "_uuid": "04f83390ba69e93f499bf46dd6eef4882be366aa"
   },
   "outputs": [
    {
     "data": {
      "text/html": [
       "<div>\n",
       "<style>\n",
       "    .dataframe thead tr:only-child th {\n",
       "        text-align: right;\n",
       "    }\n",
       "\n",
       "    .dataframe thead th {\n",
       "        text-align: left;\n",
       "    }\n",
       "\n",
       "    .dataframe tbody tr th {\n",
       "        vertical-align: top;\n",
       "    }\n",
       "</style>\n",
       "<table border=\"1\" class=\"dataframe\">\n",
       "  <thead>\n",
       "    <tr style=\"text-align: right;\">\n",
       "      <th></th>\n",
       "      <th>label</th>\n",
       "      <th>pixel0</th>\n",
       "      <th>pixel1</th>\n",
       "      <th>pixel2</th>\n",
       "      <th>pixel3</th>\n",
       "      <th>pixel4</th>\n",
       "      <th>pixel5</th>\n",
       "      <th>pixel6</th>\n",
       "      <th>pixel7</th>\n",
       "      <th>pixel8</th>\n",
       "      <th>...</th>\n",
       "      <th>pixel774</th>\n",
       "      <th>pixel775</th>\n",
       "      <th>pixel776</th>\n",
       "      <th>pixel777</th>\n",
       "      <th>pixel778</th>\n",
       "      <th>pixel779</th>\n",
       "      <th>pixel780</th>\n",
       "      <th>pixel781</th>\n",
       "      <th>pixel782</th>\n",
       "      <th>pixel783</th>\n",
       "    </tr>\n",
       "  </thead>\n",
       "  <tbody>\n",
       "    <tr>\n",
       "      <th>0</th>\n",
       "      <td>1</td>\n",
       "      <td>0</td>\n",
       "      <td>0</td>\n",
       "      <td>0</td>\n",
       "      <td>0</td>\n",
       "      <td>0</td>\n",
       "      <td>0</td>\n",
       "      <td>0</td>\n",
       "      <td>0</td>\n",
       "      <td>0</td>\n",
       "      <td>...</td>\n",
       "      <td>0</td>\n",
       "      <td>0</td>\n",
       "      <td>0</td>\n",
       "      <td>0</td>\n",
       "      <td>0</td>\n",
       "      <td>0</td>\n",
       "      <td>0</td>\n",
       "      <td>0</td>\n",
       "      <td>0</td>\n",
       "      <td>0</td>\n",
       "    </tr>\n",
       "    <tr>\n",
       "      <th>1</th>\n",
       "      <td>0</td>\n",
       "      <td>0</td>\n",
       "      <td>0</td>\n",
       "      <td>0</td>\n",
       "      <td>0</td>\n",
       "      <td>0</td>\n",
       "      <td>0</td>\n",
       "      <td>0</td>\n",
       "      <td>0</td>\n",
       "      <td>0</td>\n",
       "      <td>...</td>\n",
       "      <td>0</td>\n",
       "      <td>0</td>\n",
       "      <td>0</td>\n",
       "      <td>0</td>\n",
       "      <td>0</td>\n",
       "      <td>0</td>\n",
       "      <td>0</td>\n",
       "      <td>0</td>\n",
       "      <td>0</td>\n",
       "      <td>0</td>\n",
       "    </tr>\n",
       "    <tr>\n",
       "      <th>2</th>\n",
       "      <td>1</td>\n",
       "      <td>0</td>\n",
       "      <td>0</td>\n",
       "      <td>0</td>\n",
       "      <td>0</td>\n",
       "      <td>0</td>\n",
       "      <td>0</td>\n",
       "      <td>0</td>\n",
       "      <td>0</td>\n",
       "      <td>0</td>\n",
       "      <td>...</td>\n",
       "      <td>0</td>\n",
       "      <td>0</td>\n",
       "      <td>0</td>\n",
       "      <td>0</td>\n",
       "      <td>0</td>\n",
       "      <td>0</td>\n",
       "      <td>0</td>\n",
       "      <td>0</td>\n",
       "      <td>0</td>\n",
       "      <td>0</td>\n",
       "    </tr>\n",
       "    <tr>\n",
       "      <th>3</th>\n",
       "      <td>4</td>\n",
       "      <td>0</td>\n",
       "      <td>0</td>\n",
       "      <td>0</td>\n",
       "      <td>0</td>\n",
       "      <td>0</td>\n",
       "      <td>0</td>\n",
       "      <td>0</td>\n",
       "      <td>0</td>\n",
       "      <td>0</td>\n",
       "      <td>...</td>\n",
       "      <td>0</td>\n",
       "      <td>0</td>\n",
       "      <td>0</td>\n",
       "      <td>0</td>\n",
       "      <td>0</td>\n",
       "      <td>0</td>\n",
       "      <td>0</td>\n",
       "      <td>0</td>\n",
       "      <td>0</td>\n",
       "      <td>0</td>\n",
       "    </tr>\n",
       "    <tr>\n",
       "      <th>4</th>\n",
       "      <td>0</td>\n",
       "      <td>0</td>\n",
       "      <td>0</td>\n",
       "      <td>0</td>\n",
       "      <td>0</td>\n",
       "      <td>0</td>\n",
       "      <td>0</td>\n",
       "      <td>0</td>\n",
       "      <td>0</td>\n",
       "      <td>0</td>\n",
       "      <td>...</td>\n",
       "      <td>0</td>\n",
       "      <td>0</td>\n",
       "      <td>0</td>\n",
       "      <td>0</td>\n",
       "      <td>0</td>\n",
       "      <td>0</td>\n",
       "      <td>0</td>\n",
       "      <td>0</td>\n",
       "      <td>0</td>\n",
       "      <td>0</td>\n",
       "    </tr>\n",
       "  </tbody>\n",
       "</table>\n",
       "<p>5 rows × 785 columns</p>\n",
       "</div>"
      ],
      "text/plain": [
       "   label  pixel0  pixel1  pixel2  pixel3  pixel4  pixel5  pixel6  pixel7  \\\n",
       "0      1       0       0       0       0       0       0       0       0   \n",
       "1      0       0       0       0       0       0       0       0       0   \n",
       "2      1       0       0       0       0       0       0       0       0   \n",
       "3      4       0       0       0       0       0       0       0       0   \n",
       "4      0       0       0       0       0       0       0       0       0   \n",
       "\n",
       "   pixel8    ...     pixel774  pixel775  pixel776  pixel777  pixel778  \\\n",
       "0       0    ...            0         0         0         0         0   \n",
       "1       0    ...            0         0         0         0         0   \n",
       "2       0    ...            0         0         0         0         0   \n",
       "3       0    ...            0         0         0         0         0   \n",
       "4       0    ...            0         0         0         0         0   \n",
       "\n",
       "   pixel779  pixel780  pixel781  pixel782  pixel783  \n",
       "0         0         0         0         0         0  \n",
       "1         0         0         0         0         0  \n",
       "2         0         0         0         0         0  \n",
       "3         0         0         0         0         0  \n",
       "4         0         0         0         0         0  \n",
       "\n",
       "[5 rows x 785 columns]"
      ]
     },
     "execution_count": 4,
     "metadata": {},
     "output_type": "execute_result"
    }
   ],
   "source": [
    "train.head(5)"
   ]
  },
  {
   "cell_type": "code",
   "execution_count": 5,
   "metadata": {
    "_uuid": "a3617924581908916d04e36aa887765f741215c0"
   },
   "outputs": [
    {
     "data": {
      "text/html": [
       "<div>\n",
       "<style>\n",
       "    .dataframe thead tr:only-child th {\n",
       "        text-align: right;\n",
       "    }\n",
       "\n",
       "    .dataframe thead th {\n",
       "        text-align: left;\n",
       "    }\n",
       "\n",
       "    .dataframe tbody tr th {\n",
       "        vertical-align: top;\n",
       "    }\n",
       "</style>\n",
       "<table border=\"1\" class=\"dataframe\">\n",
       "  <thead>\n",
       "    <tr style=\"text-align: right;\">\n",
       "      <th></th>\n",
       "      <th>pixel0</th>\n",
       "      <th>pixel1</th>\n",
       "      <th>pixel2</th>\n",
       "      <th>pixel3</th>\n",
       "      <th>pixel4</th>\n",
       "      <th>pixel5</th>\n",
       "      <th>pixel6</th>\n",
       "      <th>pixel7</th>\n",
       "      <th>pixel8</th>\n",
       "      <th>pixel9</th>\n",
       "      <th>...</th>\n",
       "      <th>pixel774</th>\n",
       "      <th>pixel775</th>\n",
       "      <th>pixel776</th>\n",
       "      <th>pixel777</th>\n",
       "      <th>pixel778</th>\n",
       "      <th>pixel779</th>\n",
       "      <th>pixel780</th>\n",
       "      <th>pixel781</th>\n",
       "      <th>pixel782</th>\n",
       "      <th>pixel783</th>\n",
       "    </tr>\n",
       "  </thead>\n",
       "  <tbody>\n",
       "    <tr>\n",
       "      <th>0</th>\n",
       "      <td>0</td>\n",
       "      <td>0</td>\n",
       "      <td>0</td>\n",
       "      <td>0</td>\n",
       "      <td>0</td>\n",
       "      <td>0</td>\n",
       "      <td>0</td>\n",
       "      <td>0</td>\n",
       "      <td>0</td>\n",
       "      <td>0</td>\n",
       "      <td>...</td>\n",
       "      <td>0</td>\n",
       "      <td>0</td>\n",
       "      <td>0</td>\n",
       "      <td>0</td>\n",
       "      <td>0</td>\n",
       "      <td>0</td>\n",
       "      <td>0</td>\n",
       "      <td>0</td>\n",
       "      <td>0</td>\n",
       "      <td>0</td>\n",
       "    </tr>\n",
       "    <tr>\n",
       "      <th>1</th>\n",
       "      <td>0</td>\n",
       "      <td>0</td>\n",
       "      <td>0</td>\n",
       "      <td>0</td>\n",
       "      <td>0</td>\n",
       "      <td>0</td>\n",
       "      <td>0</td>\n",
       "      <td>0</td>\n",
       "      <td>0</td>\n",
       "      <td>0</td>\n",
       "      <td>...</td>\n",
       "      <td>0</td>\n",
       "      <td>0</td>\n",
       "      <td>0</td>\n",
       "      <td>0</td>\n",
       "      <td>0</td>\n",
       "      <td>0</td>\n",
       "      <td>0</td>\n",
       "      <td>0</td>\n",
       "      <td>0</td>\n",
       "      <td>0</td>\n",
       "    </tr>\n",
       "    <tr>\n",
       "      <th>2</th>\n",
       "      <td>0</td>\n",
       "      <td>0</td>\n",
       "      <td>0</td>\n",
       "      <td>0</td>\n",
       "      <td>0</td>\n",
       "      <td>0</td>\n",
       "      <td>0</td>\n",
       "      <td>0</td>\n",
       "      <td>0</td>\n",
       "      <td>0</td>\n",
       "      <td>...</td>\n",
       "      <td>0</td>\n",
       "      <td>0</td>\n",
       "      <td>0</td>\n",
       "      <td>0</td>\n",
       "      <td>0</td>\n",
       "      <td>0</td>\n",
       "      <td>0</td>\n",
       "      <td>0</td>\n",
       "      <td>0</td>\n",
       "      <td>0</td>\n",
       "    </tr>\n",
       "    <tr>\n",
       "      <th>3</th>\n",
       "      <td>0</td>\n",
       "      <td>0</td>\n",
       "      <td>0</td>\n",
       "      <td>0</td>\n",
       "      <td>0</td>\n",
       "      <td>0</td>\n",
       "      <td>0</td>\n",
       "      <td>0</td>\n",
       "      <td>0</td>\n",
       "      <td>0</td>\n",
       "      <td>...</td>\n",
       "      <td>0</td>\n",
       "      <td>0</td>\n",
       "      <td>0</td>\n",
       "      <td>0</td>\n",
       "      <td>0</td>\n",
       "      <td>0</td>\n",
       "      <td>0</td>\n",
       "      <td>0</td>\n",
       "      <td>0</td>\n",
       "      <td>0</td>\n",
       "    </tr>\n",
       "    <tr>\n",
       "      <th>4</th>\n",
       "      <td>0</td>\n",
       "      <td>0</td>\n",
       "      <td>0</td>\n",
       "      <td>0</td>\n",
       "      <td>0</td>\n",
       "      <td>0</td>\n",
       "      <td>0</td>\n",
       "      <td>0</td>\n",
       "      <td>0</td>\n",
       "      <td>0</td>\n",
       "      <td>...</td>\n",
       "      <td>0</td>\n",
       "      <td>0</td>\n",
       "      <td>0</td>\n",
       "      <td>0</td>\n",
       "      <td>0</td>\n",
       "      <td>0</td>\n",
       "      <td>0</td>\n",
       "      <td>0</td>\n",
       "      <td>0</td>\n",
       "      <td>0</td>\n",
       "    </tr>\n",
       "  </tbody>\n",
       "</table>\n",
       "<p>5 rows × 784 columns</p>\n",
       "</div>"
      ],
      "text/plain": [
       "   pixel0  pixel1  pixel2  pixel3  pixel4  pixel5  pixel6  pixel7  pixel8  \\\n",
       "0       0       0       0       0       0       0       0       0       0   \n",
       "1       0       0       0       0       0       0       0       0       0   \n",
       "2       0       0       0       0       0       0       0       0       0   \n",
       "3       0       0       0       0       0       0       0       0       0   \n",
       "4       0       0       0       0       0       0       0       0       0   \n",
       "\n",
       "   pixel9    ...     pixel774  pixel775  pixel776  pixel777  pixel778  \\\n",
       "0       0    ...            0         0         0         0         0   \n",
       "1       0    ...            0         0         0         0         0   \n",
       "2       0    ...            0         0         0         0         0   \n",
       "3       0    ...            0         0         0         0         0   \n",
       "4       0    ...            0         0         0         0         0   \n",
       "\n",
       "   pixel779  pixel780  pixel781  pixel782  pixel783  \n",
       "0         0         0         0         0         0  \n",
       "1         0         0         0         0         0  \n",
       "2         0         0         0         0         0  \n",
       "3         0         0         0         0         0  \n",
       "4         0         0         0         0         0  \n",
       "\n",
       "[5 rows x 784 columns]"
      ]
     },
     "execution_count": 5,
     "metadata": {},
     "output_type": "execute_result"
    }
   ],
   "source": [
    "test.head(5)"
   ]
  },
  {
   "cell_type": "markdown",
   "metadata": {
    "_uuid": "3819f052ac593431b49caad9c9140d977c025a97"
   },
   "source": [
    "## Data preprocess"
   ]
  },
  {
   "cell_type": "code",
   "execution_count": 6,
   "metadata": {
    "_uuid": "ded7b150dda947ae5fa57aa9da536880059b3432"
   },
   "outputs": [
    {
     "name": "stdout",
     "output_type": "stream",
     "text": [
      "(42000, 784)\n",
      "(42000,)\n"
     ]
    }
   ],
   "source": [
    "X_train=train.drop(labels = [\"label\"],axis = 1) \n",
    "Y_train=train['label']\n",
    "print(X_train.shape)\n",
    "print(Y_train.shape)"
   ]
  },
  {
   "cell_type": "code",
   "execution_count": 7,
   "metadata": {
    "_uuid": "40d48b1b46c7efa6136af815773f12acd05e0b71"
   },
   "outputs": [
    {
     "data": {
      "text/plain": [
       "1    4684\n",
       "7    4401\n",
       "3    4351\n",
       "9    4188\n",
       "2    4177\n",
       "6    4137\n",
       "0    4132\n",
       "4    4072\n",
       "8    4063\n",
       "5    3795\n",
       "Name: label, dtype: int64"
      ]
     },
     "execution_count": 7,
     "metadata": {},
     "output_type": "execute_result"
    }
   ],
   "source": [
    "Y_train.value_counts()"
   ]
  },
  {
   "cell_type": "markdown",
   "metadata": {
    "_uuid": "9e6d7bdccb69186196cb93688adef6acc251f7ae"
   },
   "source": [
    "### visualizing the number of different labels in traing data"
   ]
  },
  {
   "cell_type": "code",
   "execution_count": 8,
   "metadata": {
    "_uuid": "424409a5832eb2371ce685ca7f4919cfbe669c80"
   },
   "outputs": [
    {
     "data": {
      "image/png": "[encoded data removed]",
      "text/plain": [
       "<matplotlib.figure.Figure at 0x7effd126a470>"
      ]
     },
     "metadata": {},
     "output_type": "display_data"
    }
   ],
   "source": [
    "import seaborn as sns\n",
    "sns.countplot(x='label', data=train);"
   ]
  },
  {
   "cell_type": "markdown",
   "metadata": {
    "_uuid": "e455f1002b29723061c320187a92eeeeb8b3f60e"
   },
   "source": [
    "### normalizing  data"
   ]
  },
  {
   "cell_type": "code",
   "execution_count": 9,
   "metadata": {
    "_uuid": "1a77be37f59ef86c3f93094a683a6234f25019be"
   },
   "outputs": [],
   "source": [
    "X_train=X_train.astype('float32')/255\n",
    "test=test.astype('float32')/255"
   ]
  },
  {
   "cell_type": "markdown",
   "metadata": {
    "_uuid": "beeaafdbc47e99ab11341a29dffbd7d2eab2e29e"
   },
   "source": [
    "## Reshape \n",
    "\n",
    "Reshaping image into 3D matrix"
   ]
  },
  {
   "cell_type": "code",
   "execution_count": 10,
   "metadata": {
    "_uuid": "01917deae085f57365e28ac3c0b1c20c291a6b84"
   },
   "outputs": [],
   "source": [
    "X_train = X_train.values.reshape(-1,28,28,1)\n",
    "test = test.values.reshape(-1,28,28,1)"
   ]
  },
  {
   "cell_type": "code",
   "execution_count": 11,
   "metadata": {
    "_uuid": "9a034aaf809a37374d421523a78f99b7c33c6471"
   },
   "outputs": [
    {
     "data": {
      "text/plain": [
       "(42000, 28, 28, 1)"
      ]
     },
     "execution_count": 11,
     "metadata": {},
     "output_type": "execute_result"
    }
   ],
   "source": [
    "X_train.shape"
   ]
  },
  {
   "cell_type": "code",
   "execution_count": 12,
   "metadata": {
    "_uuid": "8e48bb64e66b829bf3862e99282a6f6c6a9c0b8f"
   },
   "outputs": [
    {
     "data": {
      "text/plain": [
       "(28000, 28, 28, 1)"
      ]
     },
     "execution_count": 12,
     "metadata": {},
     "output_type": "execute_result"
    }
   ],
   "source": [
    "test.shape"
   ]
  },
  {
   "cell_type": "markdown",
   "metadata": {
    "_uuid": "ee637a33e11a7c7d0e8b3fd91a78e35abf0e6d1c"
   },
   "source": [
    "### converting lables into one hot vector"
   ]
  },
  {
   "cell_type": "code",
   "execution_count": 13,
   "metadata": {
    "_uuid": "85b81e0fa8eb3ab4aa0b09ae262f7af535f6f40d"
   },
   "outputs": [
    {
     "name": "stderr",
     "output_type": "stream",
     "text": [
      "Using TensorFlow backend.\n"
     ]
    }
   ],
   "source": [
    "from keras.utils.np_utils import to_categorical\n",
    "Y_train = to_categorical(Y_train, num_classes = 10)"
   ]
  },
  {
   "cell_type": "code",
   "execution_count": 14,
   "metadata": {
    "_uuid": "83e4d885daccfa9aaaa0e71305f676fdcdd6d813"
   },
   "outputs": [
    {
     "data": {
      "text/plain": [
       "(42000, 10)"
      ]
     },
     "execution_count": 14,
     "metadata": {},
     "output_type": "execute_result"
    }
   ],
   "source": [
    "Y_train.shape"
   ]
  },
  {
   "cell_type": "code",
   "execution_count": 15,
   "metadata": {
    "_uuid": "07e842439aac978a9b81e4ec0124f740e088e2e4"
   },
   "outputs": [
    {
     "name": "stdout",
     "output_type": "stream",
     "text": [
      "[[ 0.  1.  0.  0.  0.  0.  0.  0.  0.  0.]\n",
      " [ 1.  0.  0.  0.  0.  0.  0.  0.  0.  0.]\n",
      " [ 0.  1.  0.  0.  0.  0.  0.  0.  0.  0.]\n",
      " [ 0.  0.  0.  0.  1.  0.  0.  0.  0.  0.]\n",
      " [ 1.  0.  0.  0.  0.  0.  0.  0.  0.  0.]]\n"
     ]
    }
   ],
   "source": [
    "print(Y_train[:5])"
   ]
  },
  {
   "cell_type": "markdown",
   "metadata": {
    "_uuid": "76aa18b22631db9e07f1909f2dd6594ffe35249a"
   },
   "source": [
    "** Now we will split training data into training data and validation data **"
   ]
  },
  {
   "cell_type": "code",
   "execution_count": 16,
   "metadata": {
    "_uuid": "8066b776e4e1b297e89680dfbf513521982b494f"
   },
   "outputs": [],
   "source": [
    "from sklearn.model_selection import train_test_split\n",
    "X_train, X_valid, Y_train, Y_valid = train_test_split(X_train, Y_train, test_size = 0.1, random_state=42)"
   ]
  },
  {
   "cell_type": "code",
   "execution_count": 17,
   "metadata": {
    "_uuid": "0fed0df1e29dcbb025b680318d7ca5d22f11768b"
   },
   "outputs": [
    {
     "data": {
      "image/png": "[encoded data removed]",
      "text/plain": [
       "<matplotlib.figure.Figure at 0x7eff7d1ad828>"
      ]
     },
     "metadata": {},
     "output_type": "display_data"
    }
   ],
   "source": [
    "plt.imshow(X_train[1][:,:,0],)\n",
    "plt.title(Y_train[1].argmax());"
   ]
  },
  {
   "cell_type": "markdown",
   "metadata": {
    "_uuid": "3f9551b231411c0c05f05c817ab5371c997cb9a6"
   },
   "source": [
    "\n",
    "\n"
   ]
  },
  {
   "cell_type": "code",
   "execution_count": null,
   "metadata": {
    "_uuid": "0793de245e9617c8c884a21586da6862bb699ed3"
   },
   "outputs": [],
   "source": []
  },
  {
   "cell_type": "markdown",
   "metadata": {
    "_uuid": "507e67996b674cb1a30590fc220462cdf63e5628"
   },
   "source": [
    "## Building CNN architecture using keras"
   ]
  },
  {
   "cell_type": "code",
   "execution_count": 20,
   "metadata": {
    "_uuid": "79fb7ec14b8d0d702642b51f59201b2c09277241"
   },
   "outputs": [],
   "source": [
    "from keras.layers import Input,InputLayer, Dense, Activation, ZeroPadding2D, BatchNormalization, Flatten, Conv2D\n",
    "from keras.layers import AveragePooling2D, MaxPooling2D, Dropout\n",
    "from keras.models import Sequential,Model\n",
    "from keras.optimizers import SGD\n",
    "from keras.callbacks import ModelCheckpoint,LearningRateScheduler\n",
    "import keras\n",
    "from keras import backend as K"
   ]
  },
  {
   "cell_type": "code",
   "execution_count": 21,
   "metadata": {
    "_uuid": "7b8015adbd0738bee5ec2bd8cd137e4cf362d89e"
   },
   "outputs": [],
   "source": [
    "inputShape=(28,28,1)\n",
    "input = Input(inputShape)\n",
    "\n",
    "x = Conv2D(64,(3,3),strides = (1,1),name='layer_conv1',padding='same')(input)\n",
    "x = BatchNormalization()(x)\n",
    "x = Activation('relu')(x)\n",
    "x = MaxPooling2D((2,2),name='maxPool1')(x)\n",
    "\n",
    "\n",
    "\n",
    "x = Conv2D(64,(3,3),strides = (1,1),name='layer_conv2',padding='same')(x)\n",
    "x = BatchNormalization()(x)\n",
    "x = Activation('relu')(x)\n",
    "x = MaxPooling2D((2,2),name='maxPool2')(x)\n",
    "\n",
    "x = Conv2D(32,(3,3),strides = (1,1),name='conv3',padding='same')(x)\n",
    "x = BatchNormalization()(x)\n",
    "x = Activation('relu')(x)\n",
    "x = MaxPooling2D((2,2),name='maxPool3')(x)\n",
    "\n",
    "\n",
    "x = Flatten()(x)\n",
    "x = Dense(64,activation = 'relu',name='fc0')(x)\n",
    "x = Dropout(0.25)(x)\n",
    "x = Dense(32,activation = 'relu',name='fc1')(x)\n",
    "x = Dropout(0.25)(x)\n",
    "x = Dense(10,activation = 'softmax',name='fc2')(x)\n",
    "\n",
    "model = Model(inputs = input,outputs = x,name='Predict')\n"
   ]
  },
  {
   "cell_type": "code",
   "execution_count": 22,
   "metadata": {
    "_uuid": "f10e2c28421cb95e0710d10f633e993741f47045"
   },
   "outputs": [
    {
     "name": "stdout",
     "output_type": "stream",
     "text": [
      "_________________________________________________________________\n",
      "Layer (type)                 Output Shape              Param #   \n",
      "=================================================================\n",
      "input_1 (InputLayer)         (None, 28, 28, 1)         0         \n",
      "_________________________________________________________________\n",
      "layer_conv1 (Conv2D)         (None, 28, 28, 64)        640       \n",
      "_________________________________________________________________\n",
      "batch_normalization_1 (Batch (None, 28, 28, 64)        256       \n",
      "_________________________________________________________________\n",
      "activation_1 (Activation)    (None, 28, 28, 64)        0         \n",
      "_________________________________________________________________\n",
      "maxPool1 (MaxPooling2D)      (None, 14, 14, 64)        0         \n",
      "_________________________________________________________________\n",
      "layer_conv2 (Conv2D)         (None, 14, 14, 64)        36928     \n",
      "_________________________________________________________________\n",
      "batch_normalization_2 (Batch (None, 14, 14, 64)        256       \n",
      "_________________________________________________________________\n",
      "activation_2 (Activation)    (None, 14, 14, 64)        0         \n",
      "_________________________________________________________________\n",
      "maxPool2 (MaxPooling2D)      (None, 7, 7, 64)          0         \n",
      "_________________________________________________________________\n",
      "conv3 (Conv2D)               (None, 7, 7, 32)          18464     \n",
      "_________________________________________________________________\n",
      "batch_normalization_3 (Batch (None, 7, 7, 32)          128       \n",
      "_________________________________________________________________\n",
      "activation_3 (Activation)    (None, 7, 7, 32)          0         \n",
      "_________________________________________________________________\n",
      "maxPool3 (MaxPooling2D)      (None, 3, 3, 32)          0         \n",
      "_________________________________________________________________\n",
      "flatten_1 (Flatten)          (None, 288)               0         \n",
      "_________________________________________________________________\n",
      "fc0 (Dense)                  (None, 64)                18496     \n",
      "_________________________________________________________________\n",
      "dropout_1 (Dropout)          (None, 64)                0         \n",
      "_________________________________________________________________\n",
      "fc1 (Dense)                  (None, 32)                2080      \n",
      "_________________________________________________________________\n",
      "dropout_2 (Dropout)          (None, 32)                0         \n",
      "_________________________________________________________________\n",
      "fc2 (Dense)                  (None, 10)                330       \n",
      "=================================================================\n",
      "Total params: 77,578\n",
      "Trainable params: 77,258\n",
      "Non-trainable params: 320\n",
      "_________________________________________________________________\n"
     ]
    }
   ],
   "source": [
    "model.summary()"
   ]
  },
  {
   "cell_type": "code",
   "execution_count": 23,
   "metadata": {
    "_uuid": "5c9cbb460562800bd46771f0ff13fcad864bb092"
   },
   "outputs": [],
   "source": [
    "# define SGD optimizer\n",
    "momentum = 0.5\n",
    "sgd = SGD(lr=0.0, momentum=momentum, decay=0.0, nesterov=False) \n",
    "\n",
    "# compile the model\n",
    "model.compile(loss='categorical_crossentropy',optimizer=sgd, metrics=['accuracy'])"
   ]
  },
  {
   "cell_type": "markdown",
   "metadata": {
    "_uuid": "6faf650d641c9e57f8fe6c7ef62ddb05bdda313f"
   },
   "source": [
    "## Learning Rate Schedules\n",
    "\n",
    "Learning rate schedules seek to adjust the learning rate during training by reducing the learning rate according to a pre-defined schedule. Common learning rate schedules include time-based decay, step decay and exponential decay\n",
    "\n",
    "** Here we will implement Step Decay **\n",
    "\n",
    "Step decay schedule drops the learning rate by a factor every few epochs. The mathematical form of step decay is :\n",
    "```\n",
    "lr = lr0 * drop^floor(epoch / epochs_drop)\n",
    "```\n",
    "** we will drop learning rate after every 2 epochs **"
   ]
  },
  {
   "cell_type": "code",
   "execution_count": 24,
   "metadata": {
    "_uuid": "9ec461e5a118bf591494c0f03f37636ae777c27e"
   },
   "outputs": [],
   "source": [
    "import math\n",
    "def step_decay(epoch):\n",
    "    \n",
    "    \n",
    "    initial_lrate=0.1\n",
    "    drop=0.8\n",
    "    epochs_drop = 2.0\n",
    "    lrate= initial_lrate * math.pow(drop,  \n",
    "           math.floor((1+epoch)/epochs_drop))\n",
    "    return lrate\n",
    "   \n",
    "\n",
    "lrate = LearningRateScheduler(step_decay)\n",
    "callbacks_list = [ lrate]\n"
   ]
  },
  {
   "cell_type": "code",
   "execution_count": null,
   "metadata": {
    "_uuid": "268639250e98a617337fecee1c1c94dc6fec56b1"
   },
   "outputs": [],
   "source": []
  },
  {
   "cell_type": "code",
   "execution_count": 25,
   "metadata": {
    "_uuid": "aa01817d6a9e90ce9b8f71b2051140033d5c87d9"
   },
   "outputs": [
    {
     "name": "stdout",
     "output_type": "stream",
     "text": [
      "Train on 37800 samples, validate on 4200 samples\n",
      "Epoch 1/50\n",
      "37800/37800 [==============================] - 17s 441us/step - loss: 0.3887 - acc: 0.8791 - val_loss: 0.0873 - val_acc: 0.9774\n",
      "Epoch 2/50\n",
      "37800/37800 [==============================] - 15s 384us/step - loss: 0.1250 - acc: 0.9657 - val_loss: 0.0598 - val_acc: 0.9840\n",
      "Epoch 3/50\n",
      "37800/37800 [==============================] - 14s 374us/step - loss: 0.0956 - acc: 0.9742 - val_loss: 0.0644 - val_acc: 0.9831\n",
      "Epoch 4/50\n",
      "37800/37800 [==============================] - 15s 386us/step - loss: 0.0727 - acc: 0.9813 - val_loss: 0.0507 - val_acc: 0.9879\n",
      "Epoch 5/50\n",
      "37800/37800 [==============================] - 14s 381us/step - loss: 0.0579 - acc: 0.9850 - val_loss: 0.1279 - val_acc: 0.9719\n",
      "Epoch 6/50\n",
      "37800/37800 [==============================] - 15s 387us/step - loss: 0.0489 - acc: 0.9872 - val_loss: 0.0427 - val_acc: 0.9886\n",
      "Epoch 7/50\n",
      "37800/37800 [==============================] - 15s 386us/step - loss: 0.0425 - acc: 0.9887 - val_loss: 0.0488 - val_acc: 0.9883\n",
      "Epoch 8/50\n",
      "37800/37800 [==============================] - 15s 387us/step - loss: 0.0346 - acc: 0.9902 - val_loss: 0.0486 - val_acc: 0.9888\n",
      "Epoch 9/50\n",
      "37800/37800 [==============================] - 15s 386us/step - loss: 0.0341 - acc: 0.9902 - val_loss: 0.0471 - val_acc: 0.9898\n",
      "Epoch 10/50\n",
      "37800/37800 [==============================] - 15s 386us/step - loss: 0.0286 - acc: 0.9920 - val_loss: 0.0531 - val_acc: 0.9874\n",
      "Epoch 11/50\n",
      "37800/37800 [==============================] - 15s 386us/step - loss: 0.0274 - acc: 0.9920 - val_loss: 0.0393 - val_acc: 0.9914\n",
      "Epoch 12/50\n",
      "37800/37800 [==============================] - 15s 385us/step - loss: 0.0220 - acc: 0.9939 - val_loss: 0.0450 - val_acc: 0.9912\n",
      "Epoch 13/50\n",
      "37800/37800 [==============================] - 15s 386us/step - loss: 0.0232 - acc: 0.9934 - val_loss: 0.0433 - val_acc: 0.9900\n",
      "Epoch 14/50\n",
      "37800/37800 [==============================] - 15s 386us/step - loss: 0.0190 - acc: 0.9949 - val_loss: 0.0405 - val_acc: 0.9910\n",
      "Epoch 15/50\n",
      "37800/37800 [==============================] - 15s 387us/step - loss: 0.0170 - acc: 0.9949 - val_loss: 0.0429 - val_acc: 0.9907\n",
      "Epoch 16/50\n",
      "37800/37800 [==============================] - 15s 387us/step - loss: 0.0159 - acc: 0.9953 - val_loss: 0.0471 - val_acc: 0.9910\n",
      "Epoch 17/50\n",
      "37800/37800 [==============================] - 15s 389us/step - loss: 0.0165 - acc: 0.9948 - val_loss: 0.0522 - val_acc: 0.9902\n",
      "Epoch 18/50\n",
      "37800/37800 [==============================] - 15s 388us/step - loss: 0.0151 - acc: 0.9955 - val_loss: 0.0497 - val_acc: 0.9907\n",
      "Epoch 19/50\n",
      "37800/37800 [==============================] - 15s 387us/step - loss: 0.0139 - acc: 0.9959 - val_loss: 0.0482 - val_acc: 0.9902\n",
      "Epoch 20/50\n",
      "37800/37800 [==============================] - 15s 389us/step - loss: 0.0106 - acc: 0.9971 - val_loss: 0.0495 - val_acc: 0.9907\n",
      "Epoch 21/50\n",
      "37800/37800 [==============================] - 15s 387us/step - loss: 0.0128 - acc: 0.9961 - val_loss: 0.0523 - val_acc: 0.9912\n",
      "Epoch 22/50\n",
      "37800/37800 [==============================] - 15s 387us/step - loss: 0.0118 - acc: 0.9965 - val_loss: 0.0510 - val_acc: 0.9912\n",
      "Epoch 23/50\n",
      "37800/37800 [==============================] - 15s 388us/step - loss: 0.0120 - acc: 0.9963 - val_loss: 0.0528 - val_acc: 0.9907\n",
      "Epoch 24/50\n",
      "37800/37800 [==============================] - 15s 388us/step - loss: 0.0099 - acc: 0.9970 - val_loss: 0.0528 - val_acc: 0.9910\n",
      "Epoch 25/50\n",
      "37800/37800 [==============================] - 15s 387us/step - loss: 0.0110 - acc: 0.9966 - val_loss: 0.0519 - val_acc: 0.9907\n",
      "Epoch 26/50\n",
      "37800/37800 [==============================] - 15s 388us/step - loss: 0.0097 - acc: 0.9971 - val_loss: 0.0502 - val_acc: 0.9902\n",
      "Epoch 27/50\n",
      "37800/37800 [==============================] - 15s 386us/step - loss: 0.0100 - acc: 0.9972 - val_loss: 0.0515 - val_acc: 0.9907\n",
      "Epoch 28/50\n",
      "37800/37800 [==============================] - 15s 387us/step - loss: 0.0092 - acc: 0.9974 - val_loss: 0.0513 - val_acc: 0.9912\n",
      "Epoch 29/50\n",
      "37800/37800 [==============================] - 15s 387us/step - loss: 0.0093 - acc: 0.9972 - val_loss: 0.0509 - val_acc: 0.9910\n",
      "Epoch 30/50\n",
      "37800/37800 [==============================] - 15s 388us/step - loss: 0.0098 - acc: 0.9969 - val_loss: 0.0509 - val_acc: 0.9910\n",
      "Epoch 31/50\n",
      "37800/37800 [==============================] - 15s 386us/step - loss: 0.0095 - acc: 0.9973 - val_loss: 0.0509 - val_acc: 0.9907\n",
      "Epoch 32/50\n",
      "37800/37800 [==============================] - 15s 388us/step - loss: 0.0088 - acc: 0.9976 - val_loss: 0.0494 - val_acc: 0.9912\n",
      "Epoch 33/50\n",
      "37800/37800 [==============================] - 15s 389us/step - loss: 0.0084 - acc: 0.9976 - val_loss: 0.0501 - val_acc: 0.9912\n",
      "Epoch 34/50\n",
      "37800/37800 [==============================] - 15s 389us/step - loss: 0.0097 - acc: 0.9972 - val_loss: 0.0495 - val_acc: 0.9917\n",
      "Epoch 35/50\n",
      "37800/37800 [==============================] - 15s 390us/step - loss: 0.0095 - acc: 0.9969 - val_loss: 0.0500 - val_acc: 0.9914\n",
      "Epoch 36/50\n",
      "37800/37800 [==============================] - 15s 391us/step - loss: 0.0078 - acc: 0.9975 - val_loss: 0.0506 - val_acc: 0.9912\n",
      "Epoch 37/50\n",
      "37800/37800 [==============================] - 15s 391us/step - loss: 0.0094 - acc: 0.9973 - val_loss: 0.0511 - val_acc: 0.9914\n",
      "Epoch 38/50\n",
      "37800/37800 [==============================] - 15s 390us/step - loss: 0.0083 - acc: 0.9974 - val_loss: 0.0512 - val_acc: 0.9912\n",
      "Epoch 39/50\n",
      "37800/37800 [==============================] - 15s 388us/step - loss: 0.0084 - acc: 0.9973 - val_loss: 0.0502 - val_acc: 0.9917\n",
      "Epoch 40/50\n",
      "37800/37800 [==============================] - 15s 388us/step - loss: 0.0097 - acc: 0.9970 - val_loss: 0.0510 - val_acc: 0.9910\n",
      "Epoch 41/50\n",
      "37800/37800 [==============================] - 15s 388us/step - loss: 0.0091 - acc: 0.9972 - val_loss: 0.0510 - val_acc: 0.9910\n",
      "Epoch 42/50\n",
      "37800/37800 [==============================] - 15s 388us/step - loss: 0.0084 - acc: 0.9975 - val_loss: 0.0509 - val_acc: 0.9910\n",
      "Epoch 43/50\n",
      "37800/37800 [==============================] - 15s 389us/step - loss: 0.0091 - acc: 0.9974 - val_loss: 0.0514 - val_acc: 0.9907\n",
      "Epoch 44/50\n",
      "37800/37800 [==============================] - 15s 390us/step - loss: 0.0082 - acc: 0.9978 - val_loss: 0.0510 - val_acc: 0.9912\n",
      "Epoch 45/50\n",
      "37800/37800 [==============================] - 15s 388us/step - loss: 0.0083 - acc: 0.9977 - val_loss: 0.0511 - val_acc: 0.9914\n",
      "Epoch 46/50\n",
      "37800/37800 [==============================] - 15s 389us/step - loss: 0.0088 - acc: 0.9973 - val_loss: 0.0514 - val_acc: 0.9910\n",
      "Epoch 47/50\n",
      "37800/37800 [==============================] - 15s 388us/step - loss: 0.0090 - acc: 0.9974 - val_loss: 0.0510 - val_acc: 0.9912\n",
      "Epoch 48/50\n",
      "37800/37800 [==============================] - 15s 387us/step - loss: 0.0096 - acc: 0.9971 - val_loss: 0.0511 - val_acc: 0.9912\n",
      "Epoch 49/50\n",
      "37800/37800 [==============================] - 15s 389us/step - loss: 0.0097 - acc: 0.9972 - val_loss: 0.0514 - val_acc: 0.9914\n",
      "Epoch 50/50\n",
      "37800/37800 [==============================] - 15s 388us/step - loss: 0.0083 - acc: 0.9977 - val_loss: 0.0514 - val_acc: 0.9914\n"
     ]
    }
   ],
   "source": [
    "history=model.fit(X_train, Y_train, validation_data=(X_valid, Y_valid),\n",
    "                          epochs=50,callbacks=callbacks_list,verbose=1)"
   ]
  },
  {
   "cell_type": "markdown",
   "metadata": {
    "_uuid": "fed251f0a09299a051a602e2e33d0fe0d235f59c"
   },
   "source": [
    "## plotting training and validation loss"
   ]
  },
  {
   "cell_type": "code",
   "execution_count": 26,
   "metadata": {
    "_uuid": "6963e128c3ab1153857acbaf98ea45124c1ef0a8"
   },
   "outputs": [
    {
     "data": {
      "image/png": "[encoded data removed]",
      "text/plain": [
       "<matplotlib.figure.Figure at 0x7effc1c766d8>"
      ]
     },
     "metadata": {},
     "output_type": "display_data"
    }
   ],
   "source": [
    "import matplotlib.pyplot as plt\n",
    "loss = history.history['loss']\n",
    "val_loss = history.history['val_loss']\n",
    "epochs = range(1, len(loss) + 1)\n",
    "plt.plot(epochs, loss, color='red', label='Training loss')\n",
    "plt.plot(epochs, val_loss, color='green', label='Validation loss')\n",
    "plt.title('Training and validation loss')\n",
    "plt.xlabel('Epochs')\n",
    "plt.ylabel('Loss')\n",
    "plt.legend()\n",
    "plt.show()"
   ]
  },
  {
   "cell_type": "markdown",
   "metadata": {
    "_uuid": "0770e52643a8025f11f5fd089f952246aa003a0a"
   },
   "source": [
    "## plotting training and validation accuracy"
   ]
  },
  {
   "cell_type": "code",
   "execution_count": 27,
   "metadata": {
    "_uuid": "ac9371e056a345a67c02a73120777919f5408839"
   },
   "outputs": [
    {
     "data": {
      "image/png": "[encoded data removed]",
      "text/plain": [
       "<matplotlib.figure.Figure at 0x7effc1c76518>"
      ]
     },
     "metadata": {},
     "output_type": "display_data"
    }
   ],
   "source": [
    "acc = history.history['acc']\n",
    "val_acc = history.history['val_acc']\n",
    "plt.plot(epochs, acc, color='red', label='Training acc')\n",
    "plt.plot(epochs, val_acc, color='green', label='Validation acc')\n",
    "plt.title('Training and validation accuracy')\n",
    "plt.xlabel('Epochs')\n",
    "plt.ylabel('Loss')\n",
    "plt.legend()\n",
    "plt.show()"
   ]
  },
  {
   "cell_type": "code",
   "execution_count": 28,
   "metadata": {
    "_uuid": "92b4c43e39e88cc03336714092410f5ad0a463be"
   },
   "outputs": [
    {
     "name": "stdout",
     "output_type": "stream",
     "text": [
      "on valid data\n",
      "4200/4200 [==============================] - 1s 164us/step\n",
      "accuaracy 99.1428571429\n",
      "Total loss 5.14213779446\n"
     ]
    }
   ],
   "source": [
    "print(\"on valid data\")\n",
    "pred1=model.evaluate(X_valid,Y_valid)\n",
    "print(\"accuaracy\", str(pred1[1]*100))\n",
    "print(\"Total loss\",str(pred1[0]*100))"
   ]
  },
  {
   "cell_type": "code",
   "execution_count": 29,
   "metadata": {
    "_uuid": "f482a3649b879220b53b6c51c224d292fb03c284"
   },
   "outputs": [],
   "source": [
    "from sklearn.metrics import confusion_matrix\n",
    "Y_prediction = model.predict(X_valid)\n",
    "# Convert predictions classes to one hot vectors \n",
    "Y_pred_classes = np.argmax(Y_prediction,axis = 1) \n",
    "# Convert validation observations to one hot vectors\n",
    "Y_true = np.argmax(Y_valid,axis = 1) \n",
    "# compute the confusion matrix\n",
    "confusion_mtx = confusion_matrix(Y_true, Y_pred_classes) "
   ]
  },
  {
   "cell_type": "code",
   "execution_count": 30,
   "metadata": {
    "_uuid": "74a3439aed53d2c3243f529d2e8b10c844cd1e0d"
   },
   "outputs": [
    {
     "data": {
      "image/png": "[encoded data removed]",
      "text/plain": [
       "<matplotlib.figure.Figure at 0x7effc4f15908>"
      ]
     },
     "metadata": {},
     "output_type": "display_data"
    }
   ],
   "source": [
    "\n",
    "sns.heatmap(confusion_mtx, annot=True, fmt=\"d\");"
   ]
  },
  {
   "cell_type": "code",
   "execution_count": 31,
   "metadata": {
    "_uuid": "14e0836d226825e9841ae46ee0de49fd97dc83cc"
   },
   "outputs": [],
   "source": [
    "# predict results\n",
    "results = model.predict(test)\n",
    "\n",
    "# select the indix with the maximum probability\n",
    "results = np.argmax(results,axis = 1)\n"
   ]
  },
  {
   "cell_type": "code",
   "execution_count": 32,
   "metadata": {
    "_uuid": "3d6f82264d238ecfe3db811f267b9a375b7d77e6"
   },
   "outputs": [],
   "source": [
    "submissions=pd.DataFrame({\"ImageId\": list(range(1,len(results)+1)),\n",
    "                         \"Label\": results})\n",
    "submissions.to_csv(\"re-submission.csv\", index=False, header=True)"
   ]
  },
  {
   "cell_type": "markdown",
   "metadata": {
    "_uuid": "683dc41e6ede282dcf88e4a8cdf6b433e1dd4e5e"
   },
   "source": []
  },
  {
   "cell_type": "code",
   "execution_count": null,
   "metadata": {
    "_uuid": "4bd0253845fcc33bcd24bbd00c20be92ee88280a",
    "collapsed": true
   },
   "outputs": [],
   "source": []
  }
 ],
 "metadata": {
  "kernelspec": {
   "display_name": "Python 3",
   "language": "python",
   "name": "python3"
  },
  "language_info": {
   "codemirror_mode": {
    "name": "ipython",
    "version": 3
   },
   "file_extension": ".py",
   "mimetype": "text/x-python",
   "name": "python",
   "nbconvert_exporter": "python",
   "pygments_lexer": "ipython3",
   "version": "3.6.3"
  }
 },
 "nbformat": 4,
 "nbformat_minor": 1
}
